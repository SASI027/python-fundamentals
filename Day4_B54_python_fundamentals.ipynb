{
 "cells": [
  {
   "cell_type": "code",
   "execution_count": null,
   "id": "251951bd",
   "metadata": {},
   "outputs": [],
   "source": [
    "introduction to list data type:"
   ]
  },
  {
   "cell_type": "code",
   "execution_count": 2,
   "id": "02644f34",
   "metadata": {},
   "outputs": [
    {
     "name": "stdout",
     "output_type": "stream",
     "text": [
      "['prasad', 'mohan', 'karthik', 'sasi kumar']\n"
     ]
    }
   ],
   "source": [
    "students = ['prasad', 'mohan', 'karthik', 'sasi kumar']\n",
    "\n",
    "print(students)"
   ]
  },
  {
   "cell_type": "code",
   "execution_count": 3,
   "id": "6c487e16",
   "metadata": {},
   "outputs": [
    {
     "data": {
      "text/plain": [
       "list"
      ]
     },
     "execution_count": 3,
     "metadata": {},
     "output_type": "execute_result"
    }
   ],
   "source": [
    "type(students)"
   ]
  },
  {
   "cell_type": "code",
   "execution_count": null,
   "id": "7ec34bf9",
   "metadata": {},
   "outputs": [],
   "source": [
    "introduction to indexing:\n",
    "0,1,2,3,...."
   ]
  },
  {
   "cell_type": "code",
   "execution_count": 4,
   "id": "e0909591",
   "metadata": {},
   "outputs": [
    {
     "name": "stdout",
     "output_type": "stream",
     "text": [
      "mohan\n"
     ]
    }
   ],
   "source": [
    "print(students[1])"
   ]
  },
  {
   "cell_type": "code",
   "execution_count": 5,
   "id": "85364bd2",
   "metadata": {},
   "outputs": [
    {
     "name": "stdout",
     "output_type": "stream",
     "text": [
      "sasi kumar\n"
     ]
    }
   ],
   "source": [
    "print(students[3])"
   ]
  },
  {
   "cell_type": "code",
   "execution_count": 6,
   "id": "008d7c91",
   "metadata": {},
   "outputs": [
    {
     "name": "stdout",
     "output_type": "stream",
     "text": [
      "['prasad', 'mohan', 'karthik', 'sasi kumar']\n"
     ]
    }
   ],
   "source": [
    "print(students)"
   ]
  },
  {
   "cell_type": "code",
   "execution_count": null,
   "id": "b93bf731",
   "metadata": {},
   "outputs": [],
   "source": []
  },
  {
   "cell_type": "code",
   "execution_count": 9,
   "id": "226ec67f",
   "metadata": {},
   "outputs": [
    {
     "name": "stdout",
     "output_type": "stream",
     "text": [
      "['prasad', 'mohan', 'karthik', 'sasi kumar', 'mohith']\n"
     ]
    }
   ],
   "source": [
    "students.append('mohith')\n",
    "\n",
    "print(students)"
   ]
  },
  {
   "cell_type": "code",
   "execution_count": 10,
   "id": "9071a382",
   "metadata": {},
   "outputs": [
    {
     "name": "stdout",
     "output_type": "stream",
     "text": [
      "['prasad', 'mohan', 'karthik', 'sasi kumar', 'mohith', 'keerthi']\n"
     ]
    }
   ],
   "source": [
    "students.append('keerthi')\n",
    "\n",
    "print(students)"
   ]
  },
  {
   "cell_type": "code",
   "execution_count": null,
   "id": "dcca1597",
   "metadata": {},
   "outputs": [],
   "source": []
  },
  {
   "cell_type": "code",
   "execution_count": 11,
   "id": "a6ab9813",
   "metadata": {},
   "outputs": [
    {
     "name": "stdout",
     "output_type": "stream",
     "text": [
      "['prasad', 'mohan', 'karthik', 'sasi kumar', 'mohith', 'sasi', 'keerthi']\n"
     ]
    }
   ],
   "source": [
    "students.insert(5,'sasi')\n",
    "\n",
    "print(students)"
   ]
  },
  {
   "cell_type": "code",
   "execution_count": 12,
   "id": "37819b66",
   "metadata": {},
   "outputs": [
    {
     "name": "stdout",
     "output_type": "stream",
     "text": [
      "karthik\n"
     ]
    }
   ],
   "source": [
    "print(students[2])"
   ]
  },
  {
   "cell_type": "code",
   "execution_count": null,
   "id": "1a4fbaad",
   "metadata": {},
   "outputs": [],
   "source": [
    "#modify the elements in list"
   ]
  },
  {
   "cell_type": "code",
   "execution_count": 13,
   "id": "f184df14",
   "metadata": {},
   "outputs": [
    {
     "name": "stdout",
     "output_type": "stream",
     "text": [
      "['prasad', 'mohan', 'karthik', 'sasi kumar', 'mohith', 'sasi', 'keerthi']\n"
     ]
    }
   ],
   "source": [
    "print(students)"
   ]
  },
  {
   "cell_type": "code",
   "execution_count": 14,
   "id": "5f2efaba",
   "metadata": {},
   "outputs": [
    {
     "name": "stdout",
     "output_type": "stream",
     "text": [
      "['prasad', 'mohana', 'karthik', 'sasi kumar', 'mohith', 'sasi', 'keerthi']\n"
     ]
    }
   ],
   "source": [
    "students[1] = 'mohana'\n",
    "\n",
    "print (students)"
   ]
  },
  {
   "cell_type": "code",
   "execution_count": null,
   "id": "c40b0b09",
   "metadata": {},
   "outputs": [],
   "source": [
    "#delete the elements in list"
   ]
  },
  {
   "cell_type": "code",
   "execution_count": 16,
   "id": "43bb30a6",
   "metadata": {},
   "outputs": [
    {
     "name": "stdout",
     "output_type": "stream",
     "text": [
      "['prasad', 'mohana', 'karthik', 'sasi kumar', 'sasi', 'keerthi']\n"
     ]
    }
   ],
   "source": [
    "del students[4]\n",
    "\n",
    "print(students)"
   ]
  },
  {
   "cell_type": "code",
   "execution_count": null,
   "id": "aa74a92e",
   "metadata": {},
   "outputs": [],
   "source": []
  },
  {
   "cell_type": "code",
   "execution_count": null,
   "id": "f12c62d9",
   "metadata": {},
   "outputs": [],
   "source": []
  }
 ],
 "metadata": {
  "kernelspec": {
   "display_name": "Python 3",
   "language": "python",
   "name": "python3"
  },
  "language_info": {
   "codemirror_mode": {
    "name": "ipython",
    "version": 3
   },
   "file_extension": ".py",
   "mimetype": "text/x-python",
   "name": "python",
   "nbconvert_exporter": "python",
   "pygments_lexer": "ipython3",
   "version": "3.8.8"
  }
 },
 "nbformat": 4,
 "nbformat_minor": 5
}
